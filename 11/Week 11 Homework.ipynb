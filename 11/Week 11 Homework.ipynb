{
 "cells": [
  {
   "cell_type": "markdown",
   "metadata": {},
   "source": [
    "# Assignment 11 - Neural Networks image recognition\n",
    "Use both MLNN and the ConvNet to solve the following problem.\n",
    "\n",
    "1. Add random noise (i.e. `np.random.normal`) to the images in training and testing. Make sure each image gets a different noise feature added to it. Inspect by printing out an image. \n",
    "2. Compare the loss/accuracy (train, val) after N epochs for both MLNN and ConvNet with and without noise. \n",
    "3. Vary the amount of noise (multiply `np.random.normal` by a factor) and keep track of the accuracy and loss (for training and validation) and plot these results."
   ]
  },
  {
   "cell_type": "markdown",
   "metadata": {},
   "source": [
    "# Neural Networks - Image Recognition "
   ]
  },
  {
   "cell_type": "code",
   "execution_count": 1,
   "metadata": {},
   "outputs": [
    {
     "name": "stderr",
     "output_type": "stream",
     "text": [
      "Using TensorFlow backend.\n"
     ]
    }
   ],
   "source": [
    "import keras\n",
    "from keras.datasets import mnist\n",
    "from keras.models import Sequential\n",
    "from keras.optimizers import RMSprop\n",
    "from keras.layers import Dense, Dropout, Flatten\n",
    "from keras.layers import Conv2D, MaxPooling2D\n",
    "from keras import backend\n",
    "    \n",
    "import numpy as np\n",
    "\n",
    "import matplotlib.pyplot as  plt\n",
    "%matplotlib inline\n",
    "\n",
    "from skimage.util import random_noise"
   ]
  },
  {
   "cell_type": "code",
   "execution_count": 2,
   "metadata": {},
   "outputs": [],
   "source": [
    "# the data, shuffled and split between train and test sets\n",
    "(x_train, y_train), (x_test, y_test) = mnist.load_data()\n",
    "\n",
    "batch_size = 128\n",
    "num_classes = 10\n",
    "epochs = 10\n",
    "\n",
    "# add 5% noise\n",
    "x_train_noise = x_train + np.random.normal(0, 255*.05, x_train.shape)\n",
    "x_test_noise = x_test + np.random.normal(0, 255*.05, x_test.shape)\n",
    "\n",
    "# convert class vectors to binary class matrices\n",
    "y_train = keras.utils.to_categorical(y_train, num_classes)\n",
    "y_test = keras.utils.to_categorical(y_test, num_classes)"
   ]
  },
  {
   "cell_type": "code",
   "execution_count": 3,
   "metadata": {},
   "outputs": [
    {
     "data": {
      "text/plain": [
       "<matplotlib.image.AxesImage at 0x640e1f6d0>"
      ]
     },
     "execution_count": 3,
     "metadata": {},
     "output_type": "execute_result"
    },
    {
     "data": {
      "image/png": "[encoded data removed]",
      "text/plain": [
       "<Figure size 432x288 with 1 Axes>"
      ]
     },
     "metadata": {
      "needs_background": "light"
     },
     "output_type": "display_data"
    }
   ],
   "source": [
    "# print images\n",
    "\n",
    "plt.imshow(x_train[0])"
   ]
  },
  {
   "cell_type": "code",
   "execution_count": 4,
   "metadata": {},
   "outputs": [
    {
     "data": {
      "text/plain": [
       "<matplotlib.image.AxesImage at 0x640f06f90>"
      ]
     },
     "execution_count": 4,
     "metadata": {},
     "output_type": "execute_result"
    },
    {
     "data": {
      "image/png": "[encoded data removed]",
      "text/plain": [
       "<Figure size 432x288 with 1 Axes>"
      ]
     },
     "metadata": {
      "needs_background": "light"
     },
     "output_type": "display_data"
    }
   ],
   "source": [
    "plt.imshow(x_train_noise[0])"
   ]
  },
  {
   "cell_type": "code",
   "execution_count": 5,
   "metadata": {},
   "outputs": [
    {
     "data": {
      "text/plain": [
       "<matplotlib.image.AxesImage at 0x10f191d50>"
      ]
     },
     "execution_count": 5,
     "metadata": {},
     "output_type": "execute_result"
    },
    {
     "data": {
      "image/png": "[encoded data removed]",
      "text/plain": [
       "<Figure size 432x288 with 1 Axes>"
      ]
     },
     "metadata": {
      "needs_background": "light"
     },
     "output_type": "display_data"
    }
   ],
   "source": [
    "plt.imshow(x_test[2822])"
   ]
  },
  {
   "cell_type": "code",
   "execution_count": 6,
   "metadata": {},
   "outputs": [
    {
     "data": {
      "text/plain": [
       "<matplotlib.image.AxesImage at 0x65c14a1d0>"
      ]
     },
     "execution_count": 6,
     "metadata": {},
     "output_type": "execute_result"
    },
    {
     "data": {
      "image/png": "[encoded data removed]",
      "text/plain": [
       "<Figure size 432x288 with 1 Axes>"
      ]
     },
     "metadata": {
      "needs_background": "light"
     },
     "output_type": "display_data"
    }
   ],
   "source": [
    "plt.imshow(x_test_noise[2822])"
   ]
  },
  {
   "cell_type": "code",
   "execution_count": 7,
   "metadata": {},
   "outputs": [
    {
     "data": {
      "text/plain": [
       "60000"
      ]
     },
     "execution_count": 7,
     "metadata": {},
     "output_type": "execute_result"
    }
   ],
   "source": [
    "x_train.shape[0]"
   ]
  },
  {
   "cell_type": "markdown",
   "metadata": {},
   "source": [
    "## MLNN"
   ]
  },
  {
   "cell_type": "code",
   "execution_count": 8,
   "metadata": {},
   "outputs": [],
   "source": [
    "# create function to reshape data for MLNN\n",
    "\n",
    "def mlnn_data_reshape(dataset):\n",
    "    reshaped = dataset.reshape(dataset.shape[0], 784)\n",
    "    reshaped = reshaped.astype('float32')\n",
    "    reshaped = reshaped / 255\n",
    "    return reshaped"
   ]
  },
  {
   "cell_type": "code",
   "execution_count": 9,
   "metadata": {},
   "outputs": [],
   "source": [
    "x_train_mlnn = mlnn_data_reshape(x_train)\n",
    "x_test_mlnn = mlnn_data_reshape(x_test)\n",
    "\n",
    "x_train_mlnn_noise = mlnn_data_reshape(x_train_noise)\n",
    "x_test_mlnn_noise = mlnn_data_reshape(x_test_noise)"
   ]
  },
  {
   "cell_type": "code",
   "execution_count": 10,
   "metadata": {},
   "outputs": [
    {
     "name": "stdout",
     "output_type": "stream",
     "text": [
      "60000 train samples\n",
      "10000 test samples\n"
     ]
    }
   ],
   "source": [
    "print(x_train_mlnn.shape[0], 'train samples')\n",
    "print(x_test_mlnn.shape[0], 'test samples')"
   ]
  },
  {
   "cell_type": "code",
   "execution_count": 12,
   "metadata": {},
   "outputs": [],
   "source": [
    "#create function to run MLNN model\n",
    "def mlnn_function(xtrain, xtest, ytrain, ytest):\n",
    "    model_mlnn = Sequential()\n",
    "    model_mlnn.add(Dense(512, activation='relu', input_shape=(784,)))\n",
    "    model_mlnn.add(Dropout(0.2))\n",
    "    model_mlnn.add(Dense(512, activation='relu'))\n",
    "    model_mlnn.add(Dropout(0.2))\n",
    "    model_mlnn.add(Dense(10, activation='softmax'))\n",
    "\n",
    "    model_mlnn.summary()\n",
    "\n",
    "    model_mlnn.compile(loss='categorical_crossentropy',\n",
    "                  optimizer=RMSprop(),\n",
    "                  metrics=['accuracy'])\n",
    "\n",
    "    history_mlnn = model_mlnn.fit(xtrain, ytrain,\n",
    "                        batch_size=batch_size,\n",
    "                        epochs=epochs,\n",
    "                        verbose=1,\n",
    "                        validation_data=(xtest, ytest))\n",
    "\n",
    "    score_mlnn = model_mlnn.evaluate(xtest, ytest, verbose=0)\n",
    "    print('MLNN Test loss:', score_mlnn[0])\n",
    "    print('MLNN Test accuracy:', score_mlnn[1])\n",
    "    return score_mlnn"
   ]
  },
  {
   "cell_type": "code",
   "execution_count": 13,
   "metadata": {},
   "outputs": [
    {
     "name": "stdout",
     "output_type": "stream",
     "text": [
      "Model: \"sequential_1\"\n",
      "_________________________________________________________________\n",
      "Layer (type)                 Output Shape              Param #   \n",
      "=================================================================\n",
      "dense_1 (Dense)              (None, 512)               401920    \n",
      "_________________________________________________________________\n",
      "dropout_1 (Dropout)          (None, 512)               0         \n",
      "_________________________________________________________________\n",
      "dense_2 (Dense)              (None, 512)               262656    \n",
      "_________________________________________________________________\n",
      "dropout_2 (Dropout)          (None, 512)               0         \n",
      "_________________________________________________________________\n",
      "dense_3 (Dense)              (None, 10)                5130      \n",
      "=================================================================\n",
      "Total params: 669,706\n",
      "Trainable params: 669,706\n",
      "Non-trainable params: 0\n",
      "_________________________________________________________________\n",
      "Train on 60000 samples, validate on 10000 samples\n",
      "Epoch 1/10\n",
      "60000/60000 [==============================] - 10s 163us/step - loss: 0.2456 - accuracy: 0.9248 - val_loss: 0.1047 - val_accuracy: 0.9675\n",
      "Epoch 2/10\n",
      "60000/60000 [==============================] - 8s 140us/step - loss: 0.1035 - accuracy: 0.9682 - val_loss: 0.0765 - val_accuracy: 0.9774\n",
      "Epoch 3/10\n",
      "60000/60000 [==============================] - 9s 147us/step - loss: 0.0768 - accuracy: 0.9763 - val_loss: 0.0780 - val_accuracy: 0.9769\n",
      "Epoch 4/10\n",
      "60000/60000 [==============================] - 10s 163us/step - loss: 0.0595 - accuracy: 0.9819 - val_loss: 0.0797 - val_accuracy: 0.9761\n",
      "Epoch 5/10\n",
      "60000/60000 [==============================] - 12s 194us/step - loss: 0.0514 - accuracy: 0.9848 - val_loss: 0.0792 - val_accuracy: 0.9814\n",
      "Epoch 6/10\n",
      "60000/60000 [==============================] - 12s 195us/step - loss: 0.0438 - accuracy: 0.9869 - val_loss: 0.0793 - val_accuracy: 0.9809\n",
      "Epoch 7/10\n",
      "60000/60000 [==============================] - 10s 169us/step - loss: 0.0382 - accuracy: 0.9884 - val_loss: 0.0929 - val_accuracy: 0.9802\n",
      "Epoch 8/10\n",
      "60000/60000 [==============================] - 11s 187us/step - loss: 0.0349 - accuracy: 0.9896 - val_loss: 0.0866 - val_accuracy: 0.9799\n",
      "Epoch 9/10\n",
      "60000/60000 [==============================] - 9s 152us/step - loss: 0.0305 - accuracy: 0.9911 - val_loss: 0.0886 - val_accuracy: 0.9827\n",
      "Epoch 10/10\n",
      "60000/60000 [==============================] - 10s 163us/step - loss: 0.0280 - accuracy: 0.9920 - val_loss: 0.0860 - val_accuracy: 0.9824\n",
      "MLNN Test loss: 0.08598930054884779\n",
      "MLNN Test accuracy: 0.9824000000953674\n"
     ]
    }
   ],
   "source": [
    "# run the model\n",
    "score_mlnn = mlnn_function(x_train_mlnn,x_test_mlnn,y_train, y_test)"
   ]
  },
  {
   "cell_type": "markdown",
   "metadata": {},
   "source": [
    "### MLNN Model with Noise"
   ]
  },
  {
   "cell_type": "code",
   "execution_count": 14,
   "metadata": {},
   "outputs": [
    {
     "name": "stdout",
     "output_type": "stream",
     "text": [
      "Model: \"sequential_2\"\n",
      "_________________________________________________________________\n",
      "Layer (type)                 Output Shape              Param #   \n",
      "=================================================================\n",
      "dense_4 (Dense)              (None, 512)               401920    \n",
      "_________________________________________________________________\n",
      "dropout_3 (Dropout)          (None, 512)               0         \n",
      "_________________________________________________________________\n",
      "dense_5 (Dense)              (None, 512)               262656    \n",
      "_________________________________________________________________\n",
      "dropout_4 (Dropout)          (None, 512)               0         \n",
      "_________________________________________________________________\n",
      "dense_6 (Dense)              (None, 10)                5130      \n",
      "=================================================================\n",
      "Total params: 669,706\n",
      "Trainable params: 669,706\n",
      "Non-trainable params: 0\n",
      "_________________________________________________________________\n",
      "Train on 60000 samples, validate on 10000 samples\n",
      "Epoch 1/10\n",
      "60000/60000 [==============================] - 8s 135us/step - loss: 0.2526 - accuracy: 0.9226 - val_loss: 0.1156 - val_accuracy: 0.9624\n",
      "Epoch 2/10\n",
      "60000/60000 [==============================] - 8s 129us/step - loss: 0.0986 - accuracy: 0.9701 - val_loss: 0.1195 - val_accuracy: 0.9647\n",
      "Epoch 3/10\n",
      "60000/60000 [==============================] - 8s 131us/step - loss: 0.0679 - accuracy: 0.9793 - val_loss: 0.0728 - val_accuracy: 0.9774\n",
      "Epoch 4/10\n",
      "60000/60000 [==============================] - 8s 130us/step - loss: 0.0479 - accuracy: 0.9850 - val_loss: 0.0989 - val_accuracy: 0.9754\n",
      "Epoch 5/10\n",
      "60000/60000 [==============================] - 8s 142us/step - loss: 0.0368 - accuracy: 0.9884 - val_loss: 0.0965 - val_accuracy: 0.9776\n",
      "Epoch 6/10\n",
      "60000/60000 [==============================] - 9s 158us/step - loss: 0.0327 - accuracy: 0.9903 - val_loss: 0.0919 - val_accuracy: 0.9786\n",
      "Epoch 7/10\n",
      "60000/60000 [==============================] - 9s 150us/step - loss: 0.0251 - accuracy: 0.9919 - val_loss: 0.1038 - val_accuracy: 0.9788\n",
      "Epoch 8/10\n",
      "60000/60000 [==============================] - 9s 156us/step - loss: 0.0225 - accuracy: 0.9932 - val_loss: 0.1059 - val_accuracy: 0.9804\n",
      "Epoch 9/10\n",
      "60000/60000 [==============================] - 8s 136us/step - loss: 0.0198 - accuracy: 0.9939 - val_loss: 0.1056 - val_accuracy: 0.9804\n",
      "Epoch 10/10\n",
      "60000/60000 [==============================] - 8s 135us/step - loss: 0.0192 - accuracy: 0.9943 - val_loss: 0.1232 - val_accuracy: 0.9797\n",
      "MLNN Test loss: 0.12317514352285518\n",
      "MLNN Test accuracy: 0.9797000288963318\n"
     ]
    }
   ],
   "source": [
    "# run the model\n",
    "\n",
    "score_mlnn_noise = mlnn_function(x_train_mlnn_noise,x_test_mlnn_noise,y_train, y_test)"
   ]
  },
  {
   "cell_type": "markdown",
   "metadata": {},
   "source": [
    "### CNN Model"
   ]
  },
  {
   "cell_type": "code",
   "execution_count": 15,
   "metadata": {},
   "outputs": [],
   "source": [
    "# input image dimensions\n",
    "img_rows, img_cols = 28, 28"
   ]
  },
  {
   "cell_type": "code",
   "execution_count": 16,
   "metadata": {},
   "outputs": [],
   "source": [
    "# create function reshape data for CNN\n",
    "\n",
    "def cnn_data_reshape(dataset):\n",
    "    if backend.image_data_format() == 'channels_first':\n",
    "        reshaped = dataset.reshape(dataset.shape[0], 1, img_rows, img_cols)\n",
    "        input_shape = (1, img_rows, img_cols)\n",
    "    else:\n",
    "        reshaped = dataset.reshape(dataset.shape[0], img_rows, img_cols, 1)\n",
    "        input_shape = (img_rows, img_cols, 1)\n",
    "    reshaped = reshaped.astype('float32')\n",
    "    reshaped = reshaped / 255\n",
    "    return reshaped"
   ]
  },
  {
   "cell_type": "code",
   "execution_count": 17,
   "metadata": {},
   "outputs": [],
   "source": [
    "if backend.image_data_format() == 'channels_first':\n",
    "    input_shape = (1, img_rows, img_cols)\n",
    "else:\n",
    "    input_shape = (img_rows, img_cols, 1)"
   ]
  },
  {
   "cell_type": "code",
   "execution_count": 19,
   "metadata": {},
   "outputs": [
    {
     "name": "stdout",
     "output_type": "stream",
     "text": [
      "x_train_cnn shape: (60000, 28, 28, 1)\n",
      "60000 train samples\n",
      "10000 test samples\n",
      "x_train_cnn_noise shape: (60000, 28, 28, 1)\n",
      "60000 train samples\n",
      "10000 test samples\n"
     ]
    }
   ],
   "source": [
    "x_train_cnn = cnn_data_reshape(x_train)\n",
    "x_test_cnn = cnn_data_reshape(x_test)\n",
    "x_train_cnn_noise = cnn_data_reshape(x_train_noise)\n",
    "x_test_cnn_noise = cnn_data_reshape(x_test_noise)\n",
    "\n",
    "print('x_train_cnn shape:', x_train_cnn.shape)\n",
    "print(x_train_cnn.shape[0], 'train samples')\n",
    "print(x_test_cnn.shape[0], 'test samples')\n",
    "\n",
    "print('x_train_cnn_noise shape:', x_train_cnn_noise.shape)\n",
    "print(x_train_cnn_noise.shape[0], 'train samples')\n",
    "print(x_test_cnn_noise.shape[0], 'test samples')"
   ]
  },
  {
   "cell_type": "code",
   "execution_count": 20,
   "metadata": {},
   "outputs": [],
   "source": [
    "# create function to run CNN model\n",
    "\n",
    "def cnn_function(xtrain, xtest, ytrain, ytest):\n",
    "    model_cnn = Sequential()\n",
    "    model_cnn.add(Conv2D(32, kernel_size=(3, 3),\n",
    "                     activation='relu',\n",
    "                     input_shape=input_shape))\n",
    "    model_cnn.add(Conv2D(64, (3, 3), activation='relu'))\n",
    "    model_cnn.add(MaxPooling2D(pool_size=(2, 2)))\n",
    "    model_cnn.add(Dropout(0.25))\n",
    "    model_cnn.add(Flatten())\n",
    "    model_cnn.add(Dense(128, activation='relu'))\n",
    "    model_cnn.add(Dropout(0.5))\n",
    "    model_cnn.add(Dense(num_classes, activation='softmax'))\n",
    "\n",
    "    model_cnn.compile(loss=keras.losses.categorical_crossentropy,\n",
    "                  optimizer=keras.optimizers.Adadelta(),\n",
    "                  metrics=['accuracy'])\n",
    "\n",
    "    history_cnn = model_cnn.fit(xtrain, ytrain,\n",
    "              batch_size=batch_size,\n",
    "              epochs=epochs,\n",
    "              verbose=1,\n",
    "              validation_data=(xtest, ytest))\n",
    "\n",
    "    score_cnn = model_cnn.evaluate(xtest, ytest, verbose=0)\n",
    "    print('CNN Test loss:', score_cnn[0])\n",
    "    print('CNN Test accuracy:', score_cnn[1])\n",
    "    return score_cnn"
   ]
  },
  {
   "cell_type": "code",
   "execution_count": 21,
   "metadata": {},
   "outputs": [
    {
     "name": "stdout",
     "output_type": "stream",
     "text": [
      "Train on 60000 samples, validate on 10000 samples\n",
      "Epoch 1/10\n",
      "60000/60000 [==============================] - 109s 2ms/step - loss: 0.2609 - accuracy: 0.9186 - val_loss: 0.0581 - val_accuracy: 0.9811\n",
      "Epoch 2/10\n",
      "60000/60000 [==============================] - 97s 2ms/step - loss: 0.0868 - accuracy: 0.9752 - val_loss: 0.0396 - val_accuracy: 0.9867\n",
      "Epoch 3/10\n",
      "60000/60000 [==============================] - 101s 2ms/step - loss: 0.0637 - accuracy: 0.9804 - val_loss: 0.0348 - val_accuracy: 0.9882\n",
      "Epoch 4/10\n",
      "60000/60000 [==============================] - 107s 2ms/step - loss: 0.0552 - accuracy: 0.9834 - val_loss: 0.0377 - val_accuracy: 0.9885\n",
      "Epoch 5/10\n",
      "60000/60000 [==============================] - 107s 2ms/step - loss: 0.0478 - accuracy: 0.9859 - val_loss: 0.0291 - val_accuracy: 0.9902\n",
      "Epoch 6/10\n",
      "60000/60000 [==============================] - 107s 2ms/step - loss: 0.0424 - accuracy: 0.9870 - val_loss: 0.0253 - val_accuracy: 0.9911\n",
      "Epoch 7/10\n",
      "60000/60000 [==============================] - 103s 2ms/step - loss: 0.0367 - accuracy: 0.9885 - val_loss: 0.0267 - val_accuracy: 0.9906\n",
      "Epoch 8/10\n",
      "60000/60000 [==============================] - 118s 2ms/step - loss: 0.0332 - accuracy: 0.9899 - val_loss: 0.0256 - val_accuracy: 0.9914\n",
      "Epoch 9/10\n",
      "60000/60000 [==============================] - 104s 2ms/step - loss: 0.0303 - accuracy: 0.9904 - val_loss: 0.0260 - val_accuracy: 0.9921\n",
      "Epoch 10/10\n",
      "60000/60000 [==============================] - 104s 2ms/step - loss: 0.0298 - accuracy: 0.9910 - val_loss: 0.0262 - val_accuracy: 0.9919\n",
      "CNN Test loss: 0.026198239491930873\n",
      "CNN Test accuracy: 0.9919000267982483\n"
     ]
    }
   ],
   "source": [
    "# run the model\n",
    "\n",
    "score_cnn = cnn_function(x_train_cnn, x_test_cnn, y_train, y_test)"
   ]
  },
  {
   "cell_type": "markdown",
   "metadata": {},
   "source": [
    "#### CNN Model with Noise"
   ]
  },
  {
   "cell_type": "code",
   "execution_count": 22,
   "metadata": {},
   "outputs": [
    {
     "name": "stdout",
     "output_type": "stream",
     "text": [
      "Train on 60000 samples, validate on 10000 samples\n",
      "Epoch 1/10\n",
      "60000/60000 [==============================] - 105s 2ms/step - loss: 0.2770 - accuracy: 0.9157 - val_loss: 0.0591 - val_accuracy: 0.9814\n",
      "Epoch 2/10\n",
      "60000/60000 [==============================] - 103s 2ms/step - loss: 0.0924 - accuracy: 0.9732 - val_loss: 0.0532 - val_accuracy: 0.9830\n",
      "Epoch 3/10\n",
      "60000/60000 [==============================] - 105s 2ms/step - loss: 0.0681 - accuracy: 0.9797 - val_loss: 0.0367 - val_accuracy: 0.9882\n",
      "Epoch 4/10\n",
      "60000/60000 [==============================] - 109s 2ms/step - loss: 0.0542 - accuracy: 0.9836 - val_loss: 0.0332 - val_accuracy: 0.9891\n",
      "Epoch 5/10\n",
      "60000/60000 [==============================] - 104s 2ms/step - loss: 0.0492 - accuracy: 0.9854 - val_loss: 0.0319 - val_accuracy: 0.9894\n",
      "Epoch 6/10\n",
      "60000/60000 [==============================] - 99s 2ms/step - loss: 0.0417 - accuracy: 0.9877 - val_loss: 0.0310 - val_accuracy: 0.9905\n",
      "Epoch 7/10\n",
      "60000/60000 [==============================] - 101s 2ms/step - loss: 0.0383 - accuracy: 0.9883 - val_loss: 0.0308 - val_accuracy: 0.9899\n",
      "Epoch 8/10\n",
      "60000/60000 [==============================] - 98s 2ms/step - loss: 0.0352 - accuracy: 0.9889 - val_loss: 0.0328 - val_accuracy: 0.9902\n",
      "Epoch 9/10\n",
      "60000/60000 [==============================] - 99s 2ms/step - loss: 0.0302 - accuracy: 0.9906 - val_loss: 0.0301 - val_accuracy: 0.9909\n",
      "Epoch 10/10\n",
      "60000/60000 [==============================] - 101s 2ms/step - loss: 0.0289 - accuracy: 0.9913 - val_loss: 0.0291 - val_accuracy: 0.9898\n",
      "CNN Test loss: 0.02908199559555942\n",
      "CNN Test accuracy: 0.989799976348877\n"
     ]
    }
   ],
   "source": [
    "# run the model\n",
    "\n",
    "score_cnn_noise= cnn_function(x_train_cnn_noise, x_test_cnn_noise, y_train, y_test)"
   ]
  },
  {
   "cell_type": "markdown",
   "metadata": {},
   "source": [
    "### Noise Variation and Images"
   ]
  },
  {
   "cell_type": "code",
   "execution_count": 36,
   "metadata": {},
   "outputs": [],
   "source": [
    "# add more noise (20%)\n",
    "x_train_noise_20 = x_train + np.random.normal(0, 255*.2, x_train.shape)\n",
    "x_test_noise_20 = x_test + np.random.normal(0, 255*.2, x_test.shape)\n",
    "\n",
    "# add more noise (40%)\n",
    "x_train_noise_40 = x_train + np.random.normal(0, 255*.4, x_train.shape)\n",
    "x_test_noise_40 = x_test + np.random.normal(0, 255*.4, x_test.shape)\n",
    "\n",
    "# add more noise (60%)\n",
    "x_train_noise_60 = x_train + np.random.normal(0, 255*.6, x_train.shape)\n",
    "x_test_noise_60 = x_test + np.random.normal(0, 255*.6, x_test.shape)"
   ]
  },
  {
   "cell_type": "code",
   "execution_count": 37,
   "metadata": {},
   "outputs": [
    {
     "data": {
      "text/plain": [
       "<matplotlib.image.AxesImage at 0x65dc98b90>"
      ]
     },
     "execution_count": 37,
     "metadata": {},
     "output_type": "execute_result"
    },
    {
     "data": {
      "image/png": "[encoded data removed]",
      "text/plain": [
       "<Figure size 432x288 with 1 Axes>"
      ]
     },
     "metadata": {
      "needs_background": "light"
     },
     "output_type": "display_data"
    }
   ],
   "source": [
    "# print images\n",
    "\n",
    "plt.imshow(x_train[0])"
   ]
  },
  {
   "cell_type": "code",
   "execution_count": 38,
   "metadata": {},
   "outputs": [
    {
     "data": {
      "text/plain": [
       "<matplotlib.image.AxesImage at 0x662583190>"
      ]
     },
     "execution_count": 38,
     "metadata": {},
     "output_type": "execute_result"
    },
    {
     "data": {
      "image/png": "[encoded data removed]",
      "text/plain": [
       "<Figure size 432x288 with 1 Axes>"
      ]
     },
     "metadata": {
      "needs_background": "light"
     },
     "output_type": "display_data"
    }
   ],
   "source": [
    "plt.imshow(x_train_noise[0])"
   ]
  },
  {
   "cell_type": "code",
   "execution_count": 39,
   "metadata": {},
   "outputs": [
    {
     "data": {
      "text/plain": [
       "<matplotlib.image.AxesImage at 0x6625fe2d0>"
      ]
     },
     "execution_count": 39,
     "metadata": {},
     "output_type": "execute_result"
    },
    {
     "data": {
      "image/png": "[encoded data removed]",
      "text/plain": [
       "<Figure size 432x288 with 1 Axes>"
      ]
     },
     "metadata": {
      "needs_background": "light"
     },
     "output_type": "display_data"
    }
   ],
   "source": [
    "plt.imshow(x_train_noise_20[0])"
   ]
  },
  {
   "cell_type": "code",
   "execution_count": 40,
   "metadata": {},
   "outputs": [
    {
     "data": {
      "text/plain": [
       "<matplotlib.image.AxesImage at 0x662fe55d0>"
      ]
     },
     "execution_count": 40,
     "metadata": {},
     "output_type": "execute_result"
    },
    {
     "data": {
      "image/png": "[encoded data removed]",
      "text/plain": [
       "<Figure size 432x288 with 1 Axes>"
      ]
     },
     "metadata": {
      "needs_background": "light"
     },
     "output_type": "display_data"
    }
   ],
   "source": [
    "plt.imshow(x_train_noise_40[0])"
   ]
  },
  {
   "cell_type": "code",
   "execution_count": 41,
   "metadata": {},
   "outputs": [
    {
     "data": {
      "text/plain": [
       "<matplotlib.image.AxesImage at 0x663061810>"
      ]
     },
     "execution_count": 41,
     "metadata": {},
     "output_type": "execute_result"
    },
    {
     "data": {
      "image/png": "[encoded data removed]",
      "text/plain": [
       "<Figure size 432x288 with 1 Axes>"
      ]
     },
     "metadata": {
      "needs_background": "light"
     },
     "output_type": "display_data"
    }
   ],
   "source": [
    "plt.imshow(x_train_noise_60[0])"
   ]
  },
  {
   "cell_type": "code",
   "execution_count": 29,
   "metadata": {},
   "outputs": [
    {
     "data": {
      "text/plain": [
       "<matplotlib.image.AxesImage at 0x65de12d90>"
      ]
     },
     "execution_count": 29,
     "metadata": {},
     "output_type": "execute_result"
    },
    {
     "data": {
      "image/png": "[encoded data removed]",
      "text/plain": [
       "<Figure size 432x288 with 1 Axes>"
      ]
     },
     "metadata": {
      "needs_background": "light"
     },
     "output_type": "display_data"
    }
   ],
   "source": [
    "plt.imshow(x_test[2822])"
   ]
  },
  {
   "cell_type": "code",
   "execution_count": 30,
   "metadata": {
    "scrolled": true
   },
   "outputs": [
    {
     "data": {
      "text/plain": [
       "<matplotlib.image.AxesImage at 0x65dda7250>"
      ]
     },
     "execution_count": 30,
     "metadata": {},
     "output_type": "execute_result"
    },
    {
     "data": {
      "image/png": "[encoded data removed]",
      "text/plain": [
       "<Figure size 432x288 with 1 Axes>"
      ]
     },
     "metadata": {
      "needs_background": "light"
     },
     "output_type": "display_data"
    }
   ],
   "source": [
    "plt.imshow(x_test_noise[2822])"
   ]
  },
  {
   "cell_type": "code",
   "execution_count": 42,
   "metadata": {
    "scrolled": true
   },
   "outputs": [
    {
     "data": {
      "text/plain": [
       "<matplotlib.image.AxesImage at 0x6639c9a50>"
      ]
     },
     "execution_count": 42,
     "metadata": {},
     "output_type": "execute_result"
    },
    {
     "data": {
      "image/png": "[encoded data removed]",
      "text/plain": [
       "<Figure size 432x288 with 1 Axes>"
      ]
     },
     "metadata": {
      "needs_background": "light"
     },
     "output_type": "display_data"
    }
   ],
   "source": [
    "plt.imshow(x_test_noise_20[2822])"
   ]
  },
  {
   "cell_type": "code",
   "execution_count": 43,
   "metadata": {
    "scrolled": true
   },
   "outputs": [
    {
     "data": {
      "text/plain": [
       "<matplotlib.image.AxesImage at 0x663c16c90>"
      ]
     },
     "execution_count": 43,
     "metadata": {},
     "output_type": "execute_result"
    },
    {
     "data": {
      "image/png": "[encoded data removed]",
      "text/plain": [
       "<Figure size 432x288 with 1 Axes>"
      ]
     },
     "metadata": {
      "needs_background": "light"
     },
     "output_type": "display_data"
    }
   ],
   "source": [
    "plt.imshow(x_test_noise_40[2822])"
   ]
  },
  {
   "cell_type": "code",
   "execution_count": 44,
   "metadata": {
    "scrolled": true
   },
   "outputs": [
    {
     "data": {
      "text/plain": [
       "<matplotlib.image.AxesImage at 0x663d6af90>"
      ]
     },
     "execution_count": 44,
     "metadata": {},
     "output_type": "execute_result"
    },
    {
     "data": {
      "image/png": "[encoded data removed]",
      "text/plain": [
       "<Figure size 432x288 with 1 Axes>"
      ]
     },
     "metadata": {
      "needs_background": "light"
     },
     "output_type": "display_data"
    }
   ],
   "source": [
    "plt.imshow(x_test_noise_60[2822])"
   ]
  },
  {
   "cell_type": "markdown",
   "metadata": {},
   "source": [
    "### MLNN Models with More Noise"
   ]
  },
  {
   "cell_type": "code",
   "execution_count": 46,
   "metadata": {},
   "outputs": [
    {
     "name": "stdout",
     "output_type": "stream",
     "text": [
      "Model: \"sequential_11\"\n",
      "_________________________________________________________________\n",
      "Layer (type)                 Output Shape              Param #   \n",
      "=================================================================\n",
      "dense_28 (Dense)             (None, 512)               401920    \n",
      "_________________________________________________________________\n",
      "dropout_21 (Dropout)         (None, 512)               0         \n",
      "_________________________________________________________________\n",
      "dense_29 (Dense)             (None, 512)               262656    \n",
      "_________________________________________________________________\n",
      "dropout_22 (Dropout)         (None, 512)               0         \n",
      "_________________________________________________________________\n",
      "dense_30 (Dense)             (None, 10)                5130      \n",
      "=================================================================\n",
      "Total params: 669,706\n",
      "Trainable params: 669,706\n",
      "Non-trainable params: 0\n",
      "_________________________________________________________________\n",
      "Train on 60000 samples, validate on 10000 samples\n",
      "Epoch 1/10\n",
      "60000/60000 [==============================] - 9s 153us/step - loss: 0.3063 - accuracy: 0.9036 - val_loss: 0.1486 - val_accuracy: 0.9557\n",
      "Epoch 2/10\n",
      "60000/60000 [==============================] - 9s 151us/step - loss: 0.1148 - accuracy: 0.9648 - val_loss: 0.1294 - val_accuracy: 0.9616\n",
      "Epoch 3/10\n",
      "60000/60000 [==============================] - 7s 124us/step - loss: 0.0614 - accuracy: 0.9805 - val_loss: 0.1235 - val_accuracy: 0.9669\n",
      "Epoch 4/10\n",
      "60000/60000 [==============================] - 7s 124us/step - loss: 0.0380 - accuracy: 0.9874 - val_loss: 0.1572 - val_accuracy: 0.9638\n",
      "Epoch 5/10\n",
      "60000/60000 [==============================] - 8s 126us/step - loss: 0.0277 - accuracy: 0.9908 - val_loss: 0.1992 - val_accuracy: 0.9591\n",
      "Epoch 6/10\n",
      "60000/60000 [==============================] - 7s 124us/step - loss: 0.0237 - accuracy: 0.9925 - val_loss: 0.1908 - val_accuracy: 0.9644\n",
      "Epoch 7/10\n",
      "60000/60000 [==============================] - 7s 125us/step - loss: 0.0188 - accuracy: 0.9944 - val_loss: 0.2020 - val_accuracy: 0.9656\n",
      "Epoch 8/10\n",
      "60000/60000 [==============================] - 8s 128us/step - loss: 0.0166 - accuracy: 0.9951 - val_loss: 0.2368 - val_accuracy: 0.9643\n",
      "Epoch 9/10\n",
      "60000/60000 [==============================] - 8s 141us/step - loss: 0.0141 - accuracy: 0.9955 - val_loss: 0.2491 - val_accuracy: 0.9648\n",
      "Epoch 10/10\n",
      "60000/60000 [==============================] - 8s 133us/step - loss: 0.0138 - accuracy: 0.9958 - val_loss: 0.2296 - val_accuracy: 0.9654\n",
      "MLNN Test loss: 0.22959239469221807\n",
      "MLNN Test accuracy: 0.965399980545044\n",
      "Model: \"sequential_12\"\n",
      "_________________________________________________________________\n",
      "Layer (type)                 Output Shape              Param #   \n",
      "=================================================================\n",
      "dense_31 (Dense)             (None, 512)               401920    \n",
      "_________________________________________________________________\n",
      "dropout_23 (Dropout)         (None, 512)               0         \n",
      "_________________________________________________________________\n",
      "dense_32 (Dense)             (None, 512)               262656    \n",
      "_________________________________________________________________\n",
      "dropout_24 (Dropout)         (None, 512)               0         \n",
      "_________________________________________________________________\n",
      "dense_33 (Dense)             (None, 10)                5130      \n",
      "=================================================================\n",
      "Total params: 669,706\n",
      "Trainable params: 669,706\n",
      "Non-trainable params: 0\n",
      "_________________________________________________________________\n",
      "Train on 60000 samples, validate on 10000 samples\n",
      "Epoch 1/10\n",
      "60000/60000 [==============================] - 9s 152us/step - loss: 0.4556 - accuracy: 0.8529 - val_loss: 0.2428 - val_accuracy: 0.9203\n",
      "Epoch 2/10\n",
      "60000/60000 [==============================] - 8s 133us/step - loss: 0.1808 - accuracy: 0.9425 - val_loss: 0.2204 - val_accuracy: 0.9311\n",
      "Epoch 3/10\n",
      "60000/60000 [==============================] - 8s 126us/step - loss: 0.0948 - accuracy: 0.9690 - val_loss: 0.2453 - val_accuracy: 0.9331\n",
      "Epoch 4/10\n",
      "60000/60000 [==============================] - 8s 129us/step - loss: 0.0570 - accuracy: 0.9810 - val_loss: 0.2799 - val_accuracy: 0.9366\n",
      "Epoch 5/10\n",
      "60000/60000 [==============================] - 7s 124us/step - loss: 0.0396 - accuracy: 0.9863 - val_loss: 0.3065 - val_accuracy: 0.9388\n",
      "Epoch 6/10\n",
      "60000/60000 [==============================] - 7s 124us/step - loss: 0.0314 - accuracy: 0.9897 - val_loss: 0.3237 - val_accuracy: 0.9383\n",
      "Epoch 7/10\n",
      "60000/60000 [==============================] - 8s 127us/step - loss: 0.0280 - accuracy: 0.9909 - val_loss: 0.3817 - val_accuracy: 0.9370\n",
      "Epoch 8/10\n",
      "60000/60000 [==============================] - 8s 134us/step - loss: 0.0263 - accuracy: 0.9912 - val_loss: 0.4189 - val_accuracy: 0.9352\n",
      "Epoch 9/10\n",
      "60000/60000 [==============================] - 8s 128us/step - loss: 0.0231 - accuracy: 0.9930 - val_loss: 0.4050 - val_accuracy: 0.9381\n",
      "Epoch 10/10\n",
      "60000/60000 [==============================] - 7s 124us/step - loss: 0.0208 - accuracy: 0.9938 - val_loss: 0.4652 - val_accuracy: 0.9388\n",
      "MLNN Test loss: 0.4652311490211253\n",
      "MLNN Test accuracy: 0.9387999773025513\n",
      "Model: \"sequential_13\"\n",
      "_________________________________________________________________\n",
      "Layer (type)                 Output Shape              Param #   \n",
      "=================================================================\n",
      "dense_34 (Dense)             (None, 512)               401920    \n",
      "_________________________________________________________________\n",
      "dropout_25 (Dropout)         (None, 512)               0         \n",
      "_________________________________________________________________\n",
      "dense_35 (Dense)             (None, 512)               262656    \n",
      "_________________________________________________________________\n",
      "dropout_26 (Dropout)         (None, 512)               0         \n",
      "_________________________________________________________________\n",
      "dense_36 (Dense)             (None, 10)                5130      \n",
      "=================================================================\n",
      "Total params: 669,706\n",
      "Trainable params: 669,706\n",
      "Non-trainable params: 0\n",
      "_________________________________________________________________\n",
      "Train on 60000 samples, validate on 10000 samples\n",
      "Epoch 1/10\n",
      "60000/60000 [==============================] - 9s 148us/step - loss: 0.6581 - accuracy: 0.7828 - val_loss: 0.4063 - val_accuracy: 0.8653\n",
      "Epoch 2/10\n",
      "60000/60000 [==============================] - 8s 131us/step - loss: 0.3086 - accuracy: 0.9011 - val_loss: 0.3380 - val_accuracy: 0.8954\n",
      "Epoch 3/10\n",
      "60000/60000 [==============================] - 8s 135us/step - loss: 0.1736 - accuracy: 0.9435 - val_loss: 0.3596 - val_accuracy: 0.8981\n",
      "Epoch 4/10\n",
      "60000/60000 [==============================] - 8s 138us/step - loss: 0.1025 - accuracy: 0.9656 - val_loss: 0.4361 - val_accuracy: 0.8927\n",
      "Epoch 5/10\n",
      "60000/60000 [==============================] - 8s 136us/step - loss: 0.0723 - accuracy: 0.9752 - val_loss: 0.5028 - val_accuracy: 0.8946\n",
      "Epoch 6/10\n",
      "60000/60000 [==============================] - 8s 132us/step - loss: 0.0582 - accuracy: 0.9806 - val_loss: 0.5519 - val_accuracy: 0.8959\n",
      "Epoch 7/10\n",
      "60000/60000 [==============================] - 8s 131us/step - loss: 0.0495 - accuracy: 0.9840 - val_loss: 0.5801 - val_accuracy: 0.8950\n",
      "Epoch 8/10\n",
      "60000/60000 [==============================] - 8s 135us/step - loss: 0.0458 - accuracy: 0.9851 - val_loss: 0.6456 - val_accuracy: 0.8964\n",
      "Epoch 9/10\n",
      "60000/60000 [==============================] - 8s 131us/step - loss: 0.0406 - accuracy: 0.9868 - val_loss: 0.6730 - val_accuracy: 0.8970\n",
      "Epoch 10/10\n",
      "60000/60000 [==============================] - 8s 137us/step - loss: 0.0390 - accuracy: 0.9879 - val_loss: 0.7464 - val_accuracy: 0.8977\n",
      "MLNN Test loss: 0.7464149889207911\n",
      "MLNN Test accuracy: 0.8977000117301941\n"
     ]
    }
   ],
   "source": [
    "x_train_mlnn_noise20 = mlnn_data_reshape(x_train_noise_20)\n",
    "x_test_mlnn_noise20 = mlnn_data_reshape(x_test_noise_20)\n",
    "\n",
    "x_train_mlnn_noise40 = mlnn_data_reshape(x_train_noise_40)\n",
    "x_test_mlnn_noise40 = mlnn_data_reshape(x_test_noise_40)\n",
    "\n",
    "x_train_mlnn_noise60 = mlnn_data_reshape(x_train_noise_60)\n",
    "x_test_mlnn_noise60 = mlnn_data_reshape(x_test_noise_60)\n",
    "\n",
    "mlnn_score20 = mlnn_function(x_train_mlnn_noise20, x_test_mlnn_noise20, y_train, y_test)\n",
    "\n",
    "mlnn_score40 = mlnn_function(x_train_mlnn_noise40, x_test_mlnn_noise40, y_train, y_test)\n",
    "\n",
    "mlnn_score60 = mlnn_function(x_train_mlnn_noise60, x_test_mlnn_noise60, y_train, y_test)"
   ]
  },
  {
   "cell_type": "markdown",
   "metadata": {},
   "source": [
    "### CNN Models with More Noise"
   ]
  },
  {
   "cell_type": "code",
   "execution_count": 47,
   "metadata": {},
   "outputs": [
    {
     "name": "stdout",
     "output_type": "stream",
     "text": [
      "Train on 60000 samples, validate on 10000 samples\n",
      "Epoch 1/10\n",
      "60000/60000 [==============================] - 107s 2ms/step - loss: 0.3090 - accuracy: 0.9049 - val_loss: 0.0776 - val_accuracy: 0.9753\n",
      "Epoch 2/10\n",
      "60000/60000 [==============================] - 119s 2ms/step - loss: 0.1072 - accuracy: 0.9684 - val_loss: 0.0552 - val_accuracy: 0.9819\n",
      "Epoch 3/10\n",
      "60000/60000 [==============================] - 154s 3ms/step - loss: 0.0820 - accuracy: 0.9752 - val_loss: 0.0448 - val_accuracy: 0.9852\n",
      "Epoch 4/10\n",
      "60000/60000 [==============================] - 109s 2ms/step - loss: 0.0667 - accuracy: 0.9797 - val_loss: 0.0415 - val_accuracy: 0.9868\n",
      "Epoch 5/10\n",
      "60000/60000 [==============================] - 105s 2ms/step - loss: 0.0573 - accuracy: 0.9832 - val_loss: 0.0375 - val_accuracy: 0.9873\n",
      "Epoch 6/10\n",
      "60000/60000 [==============================] - 101s 2ms/step - loss: 0.0499 - accuracy: 0.9848 - val_loss: 0.0413 - val_accuracy: 0.9873\n",
      "Epoch 7/10\n",
      "60000/60000 [==============================] - 100s 2ms/step - loss: 0.0444 - accuracy: 0.9863 - val_loss: 0.0379 - val_accuracy: 0.9880\n",
      "Epoch 8/10\n",
      "60000/60000 [==============================] - 104s 2ms/step - loss: 0.0399 - accuracy: 0.9868 - val_loss: 0.0356 - val_accuracy: 0.9884\n",
      "Epoch 9/10\n",
      "60000/60000 [==============================] - 101s 2ms/step - loss: 0.0369 - accuracy: 0.9880 - val_loss: 0.0411 - val_accuracy: 0.9869\n",
      "Epoch 10/10\n",
      "60000/60000 [==============================] - 95s 2ms/step - loss: 0.0348 - accuracy: 0.9892 - val_loss: 0.0393 - val_accuracy: 0.9886\n",
      "CNN Test loss: 0.03933860031570303\n",
      "CNN Test accuracy: 0.9886000156402588\n",
      "Train on 60000 samples, validate on 10000 samples\n",
      "Epoch 1/10\n",
      "60000/60000 [==============================] - 102s 2ms/step - loss: 0.4204 - accuracy: 0.8684 - val_loss: 0.1070 - val_accuracy: 0.9686\n",
      "Epoch 2/10\n",
      "60000/60000 [==============================] - 101s 2ms/step - loss: 0.1586 - accuracy: 0.9522 - val_loss: 0.0859 - val_accuracy: 0.9734\n",
      "Epoch 3/10\n",
      "60000/60000 [==============================] - 101s 2ms/step - loss: 0.1235 - accuracy: 0.9623 - val_loss: 0.0843 - val_accuracy: 0.9743\n",
      "Epoch 4/10\n",
      "60000/60000 [==============================] - 100s 2ms/step - loss: 0.1013 - accuracy: 0.9688 - val_loss: 0.0717 - val_accuracy: 0.9766\n",
      "Epoch 5/10\n",
      "60000/60000 [==============================] - 101s 2ms/step - loss: 0.0869 - accuracy: 0.9732 - val_loss: 0.0668 - val_accuracy: 0.9781\n",
      "Epoch 6/10\n",
      "60000/60000 [==============================] - 101s 2ms/step - loss: 0.0760 - accuracy: 0.9760 - val_loss: 0.0686 - val_accuracy: 0.9796\n",
      "Epoch 7/10\n",
      "60000/60000 [==============================] - 95s 2ms/step - loss: 0.0695 - accuracy: 0.9779 - val_loss: 0.0644 - val_accuracy: 0.9802\n",
      "Epoch 8/10\n",
      "60000/60000 [==============================] - 96s 2ms/step - loss: 0.0626 - accuracy: 0.9802 - val_loss: 0.0641 - val_accuracy: 0.9795\n",
      "Epoch 9/10\n",
      "60000/60000 [==============================] - 95s 2ms/step - loss: 0.0550 - accuracy: 0.9823 - val_loss: 0.0702 - val_accuracy: 0.9782\n",
      "Epoch 10/10\n",
      "60000/60000 [==============================] - 95s 2ms/step - loss: 0.0517 - accuracy: 0.9834 - val_loss: 0.0686 - val_accuracy: 0.9797\n",
      "CNN Test loss: 0.0686232770668743\n",
      "CNN Test accuracy: 0.9797000288963318\n",
      "Train on 60000 samples, validate on 10000 samples\n",
      "Epoch 1/10\n",
      "60000/60000 [==============================] - 102s 2ms/step - loss: 0.6400 - accuracy: 0.7935 - val_loss: 0.2159 - val_accuracy: 0.9315\n",
      "Epoch 2/10\n",
      "60000/60000 [==============================] - 101s 2ms/step - loss: 0.3024 - accuracy: 0.9074 - val_loss: 0.1703 - val_accuracy: 0.9475\n",
      "Epoch 3/10\n",
      "60000/60000 [==============================] - 95s 2ms/step - loss: 0.2352 - accuracy: 0.9277 - val_loss: 0.1506 - val_accuracy: 0.9532\n",
      "Epoch 4/10\n",
      "60000/60000 [==============================] - 100s 2ms/step - loss: 0.1998 - accuracy: 0.9377 - val_loss: 0.1487 - val_accuracy: 0.9522\n",
      "Epoch 5/10\n",
      "60000/60000 [==============================] - 100s 2ms/step - loss: 0.1769 - accuracy: 0.9442 - val_loss: 0.1438 - val_accuracy: 0.9551\n",
      "Epoch 6/10\n",
      "60000/60000 [==============================] - 105s 2ms/step - loss: 0.1576 - accuracy: 0.9501 - val_loss: 0.1486 - val_accuracy: 0.9558\n",
      "Epoch 7/10\n",
      "60000/60000 [==============================] - 102s 2ms/step - loss: 0.1407 - accuracy: 0.9545 - val_loss: 0.1671 - val_accuracy: 0.9515\n",
      "Epoch 8/10\n",
      "60000/60000 [==============================] - 101s 2ms/step - loss: 0.1226 - accuracy: 0.9603 - val_loss: 0.1398 - val_accuracy: 0.9599\n",
      "Epoch 9/10\n",
      "60000/60000 [==============================] - 102s 2ms/step - loss: 0.1130 - accuracy: 0.9636 - val_loss: 0.1430 - val_accuracy: 0.9588\n",
      "Epoch 10/10\n",
      "60000/60000 [==============================] - 100s 2ms/step - loss: 0.1023 - accuracy: 0.9665 - val_loss: 0.1442 - val_accuracy: 0.9611\n",
      "CNN Test loss: 0.1441506291829748\n",
      "CNN Test accuracy: 0.9610999822616577\n"
     ]
    }
   ],
   "source": [
    "x_train_cnn_noise20 = cnn_data_reshape(x_train_noise_20)\n",
    "x_test_cnn_noise20 = cnn_data_reshape(x_test_noise_20)\n",
    "\n",
    "x_train_cnn_noise40 = cnn_data_reshape(x_train_noise_40)\n",
    "x_test_cnn_noise40 = cnn_data_reshape(x_test_noise_40)\n",
    "\n",
    "x_train_cnn_noise60 = cnn_data_reshape(x_train_noise_60)\n",
    "x_test_cnn_noise60 = cnn_data_reshape(x_test_noise_60)\n",
    "\n",
    "cnn_score20 = cnn_function(x_train_cnn_noise20, x_test_cnn_noise20, y_train, y_test)\n",
    "\n",
    "cnn_score40 = cnn_function(x_train_cnn_noise40, x_test_cnn_noise40, y_train, y_test)\n",
    "\n",
    "cnn_score60 = cnn_function(x_train_cnn_noise60, x_test_cnn_noise60, y_train, y_test)"
   ]
  },
  {
   "cell_type": "markdown",
   "metadata": {},
   "source": [
    "### Graph Results"
   ]
  },
  {
   "cell_type": "code",
   "execution_count": 135,
   "metadata": {},
   "outputs": [],
   "source": [
    "import pandas as pd"
   ]
  },
  {
   "cell_type": "code",
   "execution_count": 159,
   "metadata": {},
   "outputs": [],
   "source": [
    "mlnn_scores_all = score_mlnn, score_mlnn_noise, mlnn_score20, mlnn_score40, mlnn_score60\n",
    "cnn_scores_all = score_cnn, score_cnn_noise, cnn_score20, cnn_score40, cnn_score60"
   ]
  },
  {
   "cell_type": "code",
   "execution_count": 160,
   "metadata": {},
   "outputs": [],
   "source": [
    "mlnn_scores_all = pd.DataFrame(mlnn_scores_all, columns= [\"MLNN_Test_Loss\", \"MLNN_Test_Accuracy\"], \n",
    "                               index= [\"Original\", \"5% Noise\", \"20% Noise\", \"40% Noise\", \"60% Noise\"])\n",
    "cnn_scores_all = pd.DataFrame(cnn_scores_all, columns= [\"CNN_Test_Loss\", \"CNN_Test_Accuracy\"],\n",
    "                             index= [\"Original\", \"5% Noise\", \"20% Noise\", \"40% Noise\", \"60% Noise\"])"
   ]
  },
  {
   "cell_type": "code",
   "execution_count": 162,
   "metadata": {},
   "outputs": [
    {
     "data": {
      "text/html": [
       "<div>\n",
       "<style scoped>\n",
       "    .dataframe tbody tr th:only-of-type {\n",
       "        vertical-align: middle;\n",
       "    }\n",
       "\n",
       "    .dataframe tbody tr th {\n",
       "        vertical-align: top;\n",
       "    }\n",
       "\n",
       "    .dataframe thead th {\n",
       "        text-align: right;\n",
       "    }\n",
       "</style>\n",
       "<table border=\"1\" class=\"dataframe\">\n",
       "  <thead>\n",
       "    <tr style=\"text-align: right;\">\n",
       "      <th></th>\n",
       "      <th>MLNN_Test_Loss</th>\n",
       "      <th>MLNN_Test_Accuracy</th>\n",
       "      <th>CNN_Test_Loss</th>\n",
       "      <th>CNN_Test_Accuracy</th>\n",
       "    </tr>\n",
       "  </thead>\n",
       "  <tbody>\n",
       "    <tr>\n",
       "      <th>Original</th>\n",
       "      <td>0.085989</td>\n",
       "      <td>0.9824</td>\n",
       "      <td>0.026198</td>\n",
       "      <td>0.9919</td>\n",
       "    </tr>\n",
       "    <tr>\n",
       "      <th>5% Noise</th>\n",
       "      <td>0.123175</td>\n",
       "      <td>0.9797</td>\n",
       "      <td>0.029082</td>\n",
       "      <td>0.9898</td>\n",
       "    </tr>\n",
       "    <tr>\n",
       "      <th>20% Noise</th>\n",
       "      <td>0.229592</td>\n",
       "      <td>0.9654</td>\n",
       "      <td>0.039339</td>\n",
       "      <td>0.9886</td>\n",
       "    </tr>\n",
       "    <tr>\n",
       "      <th>40% Noise</th>\n",
       "      <td>0.465231</td>\n",
       "      <td>0.9388</td>\n",
       "      <td>0.068623</td>\n",
       "      <td>0.9797</td>\n",
       "    </tr>\n",
       "    <tr>\n",
       "      <th>60% Noise</th>\n",
       "      <td>0.746415</td>\n",
       "      <td>0.8977</td>\n",
       "      <td>0.144151</td>\n",
       "      <td>0.9611</td>\n",
       "    </tr>\n",
       "  </tbody>\n",
       "</table>\n",
       "</div>"
      ],
      "text/plain": [
       "           MLNN_Test_Loss  MLNN_Test_Accuracy  CNN_Test_Loss  \\\n",
       "Original         0.085989              0.9824       0.026198   \n",
       "5% Noise         0.123175              0.9797       0.029082   \n",
       "20% Noise        0.229592              0.9654       0.039339   \n",
       "40% Noise        0.465231              0.9388       0.068623   \n",
       "60% Noise        0.746415              0.8977       0.144151   \n",
       "\n",
       "           CNN_Test_Accuracy  \n",
       "Original              0.9919  \n",
       "5% Noise              0.9898  \n",
       "20% Noise             0.9886  \n",
       "40% Noise             0.9797  \n",
       "60% Noise             0.9611  "
      ]
     },
     "execution_count": 162,
     "metadata": {},
     "output_type": "execute_result"
    }
   ],
   "source": [
    "all_scores = mlnn_scores_all.join(cnn_scores_all)\n",
    "all_scores"
   ]
  },
  {
   "cell_type": "code",
   "execution_count": 157,
   "metadata": {},
   "outputs": [
    {
     "data": {
      "text/plain": [
       "Original     0.085989\n",
       "5% Noise     0.123175\n",
       "20% Noise    0.229592\n",
       "40% Noise    0.465231\n",
       "60% Noise    0.746415\n",
       "Name: MLNN_Test_Loss, dtype: float64"
      ]
     },
     "execution_count": 157,
     "metadata": {},
     "output_type": "execute_result"
    }
   ],
   "source": [
    "all_scores.iloc[:,0]"
   ]
  },
  {
   "cell_type": "markdown",
   "metadata": {},
   "source": [
    "### Plot of Loss Scores"
   ]
  },
  {
   "cell_type": "code",
   "execution_count": 168,
   "metadata": {},
   "outputs": [
    {
     "data": {
      "text/plain": [
       "Text(0, 0.5, 'Loss Score')"
      ]
     },
     "execution_count": 168,
     "metadata": {},
     "output_type": "execute_result"
    },
    {
     "data": {
      "image/png": "[encoded data removed]",
      "text/plain": [
       "<Figure size 432x288 with 1 Axes>"
      ]
     },
     "metadata": {
      "needs_background": "light"
     },
     "output_type": "display_data"
    }
   ],
   "source": [
    "plt.plot(all_scores.index, all_scores.MLNN_Test_Loss, label = 'MLNN')\n",
    "plt.plot(all_scores.index, all_scores.CNN_Test_Loss, label = 'CNN')\n",
    "plt.legend()\n",
    "plt.ylabel('Loss Score')"
   ]
  },
  {
   "cell_type": "markdown",
   "metadata": {},
   "source": [
    "### Plot of Accuracy Scores"
   ]
  },
  {
   "cell_type": "code",
   "execution_count": 172,
   "metadata": {},
   "outputs": [
    {
     "data": {
      "text/plain": [
       "(0, 1)"
      ]
     },
     "execution_count": 172,
     "metadata": {},
     "output_type": "execute_result"
    },
    {
     "data": {
      "image/png": "[encoded data removed]",
      "text/plain": [
       "<Figure size 432x288 with 1 Axes>"
      ]
     },
     "metadata": {
      "needs_background": "light"
     },
     "output_type": "display_data"
    }
   ],
   "source": [
    "plt.plot(all_scores.index, all_scores.MLNN_Test_Accuracy, label = 'MLNN')\n",
    "plt.plot(all_scores.index, all_scores.CNN_Test_Accuracy, label = 'CNN')\n",
    "plt.legend()\n",
    "plt.ylabel('Accuracy Score')\n",
    "plt.ylim(0,1) #set limits to 100%"
   ]
  },
  {
   "cell_type": "code",
   "execution_count": 173,
   "metadata": {},
   "outputs": [
    {
     "data": {
      "text/plain": [
       "Text(0, 0.5, 'Accuracy Score')"
      ]
     },
     "execution_count": 173,
     "metadata": {},
     "output_type": "execute_result"
    },
    {
     "data": {
      "image/png": "[encoded data removed]",
      "text/plain": [
       "<Figure size 432x288 with 1 Axes>"
      ]
     },
     "metadata": {
      "needs_background": "light"
     },
     "output_type": "display_data"
    }
   ],
   "source": [
    "plt.plot(all_scores.index, all_scores.MLNN_Test_Accuracy, label = 'MLNN')\n",
    "plt.plot(all_scores.index, all_scores.CNN_Test_Accuracy, label = 'CNN')\n",
    "plt.legend()\n",
    "plt.ylabel('Accuracy Score')"
   ]
  },
  {
   "cell_type": "code",
   "execution_count": null,
   "metadata": {},
   "outputs": [],
   "source": []
  }
 ],
 "metadata": {
  "kernelspec": {
   "display_name": "Python 3",
   "language": "python",
   "name": "python3"
  },
  "language_info": {
   "codemirror_mode": {
    "name": "ipython",
    "version": 3
   },
   "file_extension": ".py",
   "mimetype": "text/x-python",
   "name": "python",
   "nbconvert_exporter": "python",
   "pygments_lexer": "ipython3",
   "version": "3.7.6"
  }
 },
 "nbformat": 4,
 "nbformat_minor": 2
}
